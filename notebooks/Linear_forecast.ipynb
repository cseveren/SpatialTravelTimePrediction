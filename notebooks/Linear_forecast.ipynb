{
 "cells": [
  {
   "cell_type": "code",
   "execution_count": 13,
   "metadata": {},
   "outputs": [],
   "source": [
    "import pandas as pd\n",
    "import numpy as np\n",
    "import math\n",
    "import sklearn as sk\n",
    "from sklearn.model_selection import train_test_split\n",
    "from sklearn.linear_model import LinearRegression\n",
    "from sklearn.metrics import mean_squared_error, r2_score\n",
    "import matplotlib.pyplot as plt"
   ]
  },
  {
   "cell_type": "code",
   "execution_count": 14,
   "metadata": {},
   "outputs": [],
   "source": [
    "data = pd.read_csv(\"../data/tt_data_for_ml.csv\")\n",
    "data = data.dropna()\n",
    "\n",
    "# y = np.array(y)\n",
    "# X_train, X_test, y_train, y_test = train_test_split(X, y, test_size=0.2, random_state=42)"
   ]
  },
  {
   "cell_type": "code",
   "execution_count": 15,
   "metadata": {},
   "outputs": [
    {
     "data": {
      "text/html": [
       "<div>\n",
       "<style scoped>\n",
       "    .dataframe tbody tr th:only-of-type {\n",
       "        vertical-align: middle;\n",
       "    }\n",
       "\n",
       "    .dataframe tbody tr th {\n",
       "        vertical-align: top;\n",
       "    }\n",
       "\n",
       "    .dataframe thead th {\n",
       "        text-align: right;\n",
       "    }\n",
       "</style>\n",
       "<table border=\"1\" class=\"dataframe\">\n",
       "  <thead>\n",
       "    <tr style=\"text-align: right;\">\n",
       "      <th></th>\n",
       "      <th>t_travtime</th>\n",
       "      <th>lat_d</th>\n",
       "      <th>lon_d</th>\n",
       "      <th>lat_o</th>\n",
       "      <th>lon_o</th>\n",
       "      <th>od_dist</th>\n",
       "    </tr>\n",
       "  </thead>\n",
       "  <tbody>\n",
       "    <tr>\n",
       "      <th>0</th>\n",
       "      <td>40.0</td>\n",
       "      <td>19.378813</td>\n",
       "      <td>-99.119835</td>\n",
       "      <td>19.436481</td>\n",
       "      <td>-99.160004</td>\n",
       "      <td>7.732718</td>\n",
       "    </tr>\n",
       "    <tr>\n",
       "      <th>1</th>\n",
       "      <td>30.0</td>\n",
       "      <td>19.436481</td>\n",
       "      <td>-99.160004</td>\n",
       "      <td>19.378813</td>\n",
       "      <td>-99.119835</td>\n",
       "      <td>7.732718</td>\n",
       "    </tr>\n",
       "    <tr>\n",
       "      <th>2</th>\n",
       "      <td>5.0</td>\n",
       "      <td>19.378813</td>\n",
       "      <td>-99.119835</td>\n",
       "      <td>19.376709</td>\n",
       "      <td>-99.117508</td>\n",
       "      <td>1.423484</td>\n",
       "    </tr>\n",
       "    <tr>\n",
       "      <th>3</th>\n",
       "      <td>10.0</td>\n",
       "      <td>19.378813</td>\n",
       "      <td>-99.119835</td>\n",
       "      <td>19.376709</td>\n",
       "      <td>-99.117508</td>\n",
       "      <td>1.423484</td>\n",
       "    </tr>\n",
       "    <tr>\n",
       "      <th>4</th>\n",
       "      <td>60.0</td>\n",
       "      <td>19.355120</td>\n",
       "      <td>-99.067688</td>\n",
       "      <td>19.378813</td>\n",
       "      <td>-99.119835</td>\n",
       "      <td>6.098191</td>\n",
       "    </tr>\n",
       "  </tbody>\n",
       "</table>\n",
       "</div>"
      ],
      "text/plain": [
       "   t_travtime      lat_d      lon_d      lat_o      lon_o   od_dist\n",
       "0        40.0  19.378813 -99.119835  19.436481 -99.160004  7.732718\n",
       "1        30.0  19.436481 -99.160004  19.378813 -99.119835  7.732718\n",
       "2         5.0  19.378813 -99.119835  19.376709 -99.117508  1.423484\n",
       "3        10.0  19.378813 -99.119835  19.376709 -99.117508  1.423484\n",
       "4        60.0  19.355120 -99.067688  19.378813 -99.119835  6.098191"
      ]
     },
     "execution_count": 15,
     "metadata": {},
     "output_type": "execute_result"
    }
   ],
   "source": [
    "data = data[[\"t_travtime\", \"lat_d\", \"lon_d\", \"lat_o\", \"lon_o\", \"od_dist\"]]\n",
    "data.head()\n"
   ]
  },
  {
   "cell_type": "code",
   "execution_count": 16,
   "metadata": {},
   "outputs": [],
   "source": [
    "def euclidean_distance(route1, route2):\n",
    "    # Similarities between two routes\n",
    "\n",
    "    o_distance = np.sqrt((route1['lat_o'] - route2[\"lat_o\"])**2 + (route1['lon_o'] - route2[\"lon_o\"])**2)\n",
    "    d_distance = np.sqrt((route1['lat_d'] - route2[\"lat_d\"])**2 + (route1['lon_d'] - route2[\"lon_d\"])**2)\n",
    "    \n",
    "    return o_distance, d_distance"
   ]
  },
  {
   "cell_type": "code",
   "execution_count": 17,
   "metadata": {},
   "outputs": [],
   "source": [
    "def res_distance(route1):\n",
    "    center = [19.432777,-99.133217] # lat; long\n",
    "    resdistance = np.sqrt((route1['lat_o'] - center[0])**2 + (route1['lon_o'] - center[1])**2)\n",
    "    return resdistance"
   ]
  },
  {
   "cell_type": "code",
   "execution_count": 18,
   "metadata": {},
   "outputs": [],
   "source": [
    "def work_distance(route1):\n",
    "    center = [19.432777,-99.133217] # lat; long\n",
    "    workdistance = np.sqrt((route1['lat_d'] - center[0])**2 + (route1['lon_d'] - center[1])**2)\n",
    "    return workdistance"
   ]
  },
  {
   "cell_type": "code",
   "execution_count": 19,
   "metadata": {},
   "outputs": [],
   "source": [
    "# Linear combination\n",
    "\n",
    "# center = [lat: 19.432777,long: -99.133217.] \n",
    "\n",
    "data[\"res distance\"] = data.apply(res_distance, axis = 1)\n",
    "data[\"work distance\"] = data.apply(work_distance, axis = 1)\n",
    "# E to the power\n",
    "# ln Tmij = d ln Distanceij + r ln (Residence CBD Dis)i + w ln (Work CBD Dis)j +vm + umij\n",
    "# "
   ]
  },
  {
   "cell_type": "code",
   "execution_count": 20,
   "metadata": {},
   "outputs": [],
   "source": [
    "def ln(x):\n",
    "    return math.log(x)"
   ]
  },
  {
   "cell_type": "code",
   "execution_count": 21,
   "metadata": {},
   "outputs": [],
   "source": [
    "data = data[[\"t_travtime\",\"od_dist\",\"res distance\",\"work distance\"]]\n",
    "\n",
    "data = data.applymap(ln)\n",
    "\n",
    "y = data[\"t_travtime\"]\n",
    "X = data.drop([\"t_travtime\"], axis = 1)"
   ]
  },
  {
   "cell_type": "code",
   "execution_count": 22,
   "metadata": {},
   "outputs": [
    {
     "name": "stdout",
     "output_type": "stream",
     "text": [
      "Mean Squared Error: 0.3276599895859389\n",
      "R² Score: 0.4547888694125751\n"
     ]
    }
   ],
   "source": [
    "X_train, X_test, y_train, y_test = train_test_split(X, y, test_size=0.2, random_state=42)\n",
    "model = LinearRegression()\n",
    "model.fit(X_train, y_train)\n",
    "y_pred = model.predict(X_test)\n",
    "mse = mean_squared_error(y_test, y_pred)\n",
    "r2 = r2_score(y_test, y_pred)\n",
    "print(f'Mean Squared Error: {mse}') # Under log\n",
    "print(f'R² Score: {r2}')"
   ]
  },
  {
   "cell_type": "code",
   "execution_count": 23,
   "metadata": {},
   "outputs": [
    {
     "data": {
      "image/png": "[encoded data removed]",
      "text/plain": [
       "<Figure size 432x288 with 1 Axes>"
      ]
     },
     "metadata": {
      "needs_background": "light"
     },
     "output_type": "display_data"
    }
   ],
   "source": [
    "\n",
    "plt.scatter(X_test[\"od_dist\"], y_test, color='blue', label='Actual')\n",
    "plt.plot(X_test[\"od_dist\"], y_pred, color='red', linewidth=2, label='Predicted')\n",
    "plt.title('Log linear Regression')\n",
    "plt.xlabel('Log Distance')\n",
    "plt.ylabel('Log Travtime')\n",
    "plt.legend()\n",
    "plt.show()"
   ]
  },
  {
   "cell_type": "code",
   "execution_count": 24,
   "metadata": {},
   "outputs": [
    {
     "data": {
      "text/plain": [
       "544.3997887878368"
      ]
     },
     "execution_count": 24,
     "metadata": {},
     "output_type": "execute_result"
    }
   ],
   "source": [
    "# Comparable loss \n",
    "y_expactual = np.exp(y_test)\n",
    "y_exppred = np.exp(y_pred)\n",
    "# Orginal MSE\n",
    "MSE_original = np.mean((y_expactual - y_exppred) ** 2)\n",
    "MSE_original"
   ]
  },
  {
   "cell_type": "code",
   "execution_count": 25,
   "metadata": {},
   "outputs": [
    {
     "name": "stdout",
     "output_type": "stream",
     "text": [
      "Intercept: 2.1209226113715927\n",
      "Coefficients: [ 0.59890719 -0.07167154 -0.05061359]\n"
     ]
    }
   ],
   "source": [
    "intercept = model.intercept_\n",
    "coefficients = model.coef_\n",
    "\n",
    "print(f'Intercept: {intercept}')\n",
    "print(f'Coefficients: {coefficients}')"
   ]
  },
  {
   "cell_type": "code",
   "execution_count": 29,
   "metadata": {},
   "outputs": [],
   "source": [
    "pred_data = pd.read_csv(\"../data/tt_pred_for_ml.csv\")[:10000]\n",
    "# pred_data.columns\n",
    "pred_data = pred_data[['lat_d', 'lon_d', 'lat_o', 'lon_o', 'od_dist']]\n"
   ]
  },
  {
   "cell_type": "code",
   "execution_count": 31,
   "metadata": {},
   "outputs": [],
   "source": [
    "pred_data[\"res distance\"] = pred_data.apply(res_distance, axis = 1)\n",
    "pred_data[\"work distance\"] = pred_data.apply(work_distance, axis = 1)\n",
    "pred_data = pred_data[[\"od_dist\",\"res distance\",\"work distance\"]]\n",
    "\n",
    "pred_data = pred_data.applymap(ln)"
   ]
  },
  {
   "cell_type": "code",
   "execution_count": 34,
   "metadata": {},
   "outputs": [
    {
     "data": {
      "text/plain": [
       "array([2.97210658, 3.34253843, 3.13077725, ..., 4.54184602, 4.56189143,\n",
       "       4.75220912])"
      ]
     },
     "execution_count": 34,
     "metadata": {},
     "output_type": "execute_result"
    }
   ],
   "source": [
    "y_pred_layer = model.predict(pred_data)\n",
    "y_pred_layer"
   ]
  },
  {
   "cell_type": "code",
   "execution_count": 35,
   "metadata": {},
   "outputs": [
    {
     "data": {
      "text/plain": [
       "0       0.268798\n",
       "1       1.054789\n",
       "2       0.654175\n",
       "3       0.959705\n",
       "4       1.314742\n",
       "          ...   \n",
       "9995    3.873919\n",
       "9996    3.746039\n",
       "9997    3.680426\n",
       "9998    3.719956\n",
       "9999    4.080945\n",
       "Name: od_dist, Length: 10000, dtype: float64"
      ]
     },
     "execution_count": 35,
     "metadata": {},
     "output_type": "execute_result"
    }
   ],
   "source": [
    "pred_data['od_dist']"
   ]
  },
  {
   "cell_type": "code",
   "execution_count": 36,
   "metadata": {},
   "outputs": [
    {
     "data": {
      "image/png": "[encoded data removed]",
      "text/plain": [
       "<Figure size 432x288 with 1 Axes>"
      ]
     },
     "metadata": {
      "needs_background": "light"
     },
     "output_type": "display_data"
    }
   ],
   "source": [
    "plt.plot(pred_data[\"od_dist\"], y_pred_layer, color='red', linewidth=2, label='Predicted')\n",
    "plt.title('Predicted Log linear Regression')\n",
    "plt.xlabel('Log Distance')\n",
    "plt.ylabel('Log Travtime')\n",
    "plt.legend()\n",
    "plt.show()\n"
   ]
  }
 ],
 "metadata": {
  "kernelspec": {
   "display_name": "base",
   "language": "python",
   "name": "python3"
  },
  "language_info": {
   "codemirror_mode": {
    "name": "ipython",
    "version": 3
   },
   "file_extension": ".py",
   "mimetype": "text/x-python",
   "name": "python",
   "nbconvert_exporter": "python",
   "pygments_lexer": "ipython3",
   "version": "3.7.6"
  }
 },
 "nbformat": 4,
 "nbformat_minor": 2
}
